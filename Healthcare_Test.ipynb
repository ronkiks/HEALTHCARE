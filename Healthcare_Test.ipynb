{
  "nbformat": 4,
  "nbformat_minor": 0,
  "metadata": {
    "colab": {
      "provenance": [],
      "authorship_tag": "ABX9TyPaKx8lyQ55Za/MTb5D1N3s",
      "include_colab_link": true
    },
    "kernelspec": {
      "name": "python3",
      "display_name": "Python 3"
    },
    "language_info": {
      "name": "python"
    }
  },
  "cells": [
    {
      "cell_type": "markdown",
      "metadata": {
        "id": "view-in-github",
        "colab_type": "text"
      },
      "source": [
        "<a href=\"https://colab.research.google.com/github/ronkiks/HEALTHCARE/blob/main/Healthcare_Test.ipynb\" target=\"_parent\"><img src=\"https://colab.research.google.com/assets/colab-badge.svg\" alt=\"Open In Colab\"/></a>"
      ]
    },
    {
      "cell_type": "code",
      "source": [
        "import numpy as np\n",
        "import pandas as pd\n",
        "import matplotlib.pyplot as plt\n",
        "import seaborn as sns"
      ],
      "metadata": {
        "id": "HlwvIPnF7iRC"
      },
      "execution_count": null,
      "outputs": []
    },
    {
      "cell_type": "code",
      "source": [
        "df =pd.read_csv('/content/test_data.csv')"
      ],
      "metadata": {
        "id": "onfyzjaL8LeV"
      },
      "execution_count": null,
      "outputs": []
    },
    {
      "cell_type": "code",
      "source": [
        "df"
      ],
      "metadata": {
        "colab": {
          "base_uri": "https://localhost:8080/",
          "height": 669
        },
        "id": "ab8gFP4E8zMt",
        "outputId": "09d513e4-e633-43d5-bb77-e027a5d4fba9"
      },
      "execution_count": null,
      "outputs": [
        {
          "output_type": "execute_result",
          "data": {
            "text/plain": [
              "        case_id  Hospital_code Hospital_type_code  City_Code_Hospital  \\\n",
              "0        318439             21                  c                   3   \n",
              "1        318440             29                  a                   4   \n",
              "2        318441             26                  b                   2   \n",
              "3        318442              6                  a                   6   \n",
              "4        318443             28                  b                  11   \n",
              "...         ...            ...                ...                 ...   \n",
              "137052   455491             11                  b                   2   \n",
              "137053   455492             25                  e                   1   \n",
              "137054   455493             30                  c                   3   \n",
              "137055   455494              5                  a                   1   \n",
              "137056   455495              6                  a                   6   \n",
              "\n",
              "       Hospital_region_code  Available Extra Rooms in Hospital    Department  \\\n",
              "0                         Z                                  3    gynecology   \n",
              "1                         X                                  2    gynecology   \n",
              "2                         Y                                  3    gynecology   \n",
              "3                         X                                  3    gynecology   \n",
              "4                         X                                  2    gynecology   \n",
              "...                     ...                                ...           ...   \n",
              "137052                    Y                                  4    anesthesia   \n",
              "137053                    X                                  2  radiotherapy   \n",
              "137054                    Z                                  2    anesthesia   \n",
              "137055                    X                                  2    anesthesia   \n",
              "137056                    X                                  3    gynecology   \n",
              "\n",
              "       Ward_Type Ward_Facility_Code  Bed Grade  patientid  City_Code_Patient  \\\n",
              "0              S                  A        2.0      17006                2.0   \n",
              "1              S                  F        2.0      17006                2.0   \n",
              "2              Q                  D        4.0      17006                2.0   \n",
              "3              Q                  F        2.0      17006                2.0   \n",
              "4              R                  F        2.0      17006                2.0   \n",
              "...          ...                ...        ...        ...                ...   \n",
              "137052         Q                  D        3.0      41160                3.0   \n",
              "137053         R                  E        4.0      30985                7.0   \n",
              "137054         R                  A        4.0      81811               12.0   \n",
              "137055         R                  E        4.0      57021               10.0   \n",
              "137056         Q                  F        4.0     126729                3.0   \n",
              "\n",
              "       Type of Admission Severity of Illness  Visitors with Patient    Age  \\\n",
              "0              Emergency            Moderate                      2  71-80   \n",
              "1                 Trauma            Moderate                      4  71-80   \n",
              "2              Emergency            Moderate                      3  71-80   \n",
              "3                 Trauma            Moderate                      3  71-80   \n",
              "4                 Trauma            Moderate                      4  71-80   \n",
              "...                  ...                 ...                    ...    ...   \n",
              "137052         Emergency               Minor                      4  41-50   \n",
              "137053         Emergency            Moderate                      2   0-10   \n",
              "137054            Urgent               Minor                      2   0-10   \n",
              "137055            Trauma               Minor                      2  41-50   \n",
              "137056            Trauma             Extreme                      5  51-60   \n",
              "\n",
              "        Admission_Deposit  \n",
              "0                  3095.0  \n",
              "1                  4018.0  \n",
              "2                  4492.0  \n",
              "3                  4173.0  \n",
              "4                  4161.0  \n",
              "...                   ...  \n",
              "137052             6313.0  \n",
              "137053             3510.0  \n",
              "137054             7190.0  \n",
              "137055             5435.0  \n",
              "137056             4702.0  \n",
              "\n",
              "[137057 rows x 17 columns]"
            ],
            "text/html": [
              "\n",
              "  <div id=\"df-d3b760b9-ed84-48c1-8477-8e0c7c86b8dd\" class=\"colab-df-container\">\n",
              "    <div>\n",
              "<style scoped>\n",
              "    .dataframe tbody tr th:only-of-type {\n",
              "        vertical-align: middle;\n",
              "    }\n",
              "\n",
              "    .dataframe tbody tr th {\n",
              "        vertical-align: top;\n",
              "    }\n",
              "\n",
              "    .dataframe thead th {\n",
              "        text-align: right;\n",
              "    }\n",
              "</style>\n",
              "<table border=\"1\" class=\"dataframe\">\n",
              "  <thead>\n",
              "    <tr style=\"text-align: right;\">\n",
              "      <th></th>\n",
              "      <th>case_id</th>\n",
              "      <th>Hospital_code</th>\n",
              "      <th>Hospital_type_code</th>\n",
              "      <th>City_Code_Hospital</th>\n",
              "      <th>Hospital_region_code</th>\n",
              "      <th>Available Extra Rooms in Hospital</th>\n",
              "      <th>Department</th>\n",
              "      <th>Ward_Type</th>\n",
              "      <th>Ward_Facility_Code</th>\n",
              "      <th>Bed Grade</th>\n",
              "      <th>patientid</th>\n",
              "      <th>City_Code_Patient</th>\n",
              "      <th>Type of Admission</th>\n",
              "      <th>Severity of Illness</th>\n",
              "      <th>Visitors with Patient</th>\n",
              "      <th>Age</th>\n",
              "      <th>Admission_Deposit</th>\n",
              "    </tr>\n",
              "  </thead>\n",
              "  <tbody>\n",
              "    <tr>\n",
              "      <th>0</th>\n",
              "      <td>318439</td>\n",
              "      <td>21</td>\n",
              "      <td>c</td>\n",
              "      <td>3</td>\n",
              "      <td>Z</td>\n",
              "      <td>3</td>\n",
              "      <td>gynecology</td>\n",
              "      <td>S</td>\n",
              "      <td>A</td>\n",
              "      <td>2.0</td>\n",
              "      <td>17006</td>\n",
              "      <td>2.0</td>\n",
              "      <td>Emergency</td>\n",
              "      <td>Moderate</td>\n",
              "      <td>2</td>\n",
              "      <td>71-80</td>\n",
              "      <td>3095.0</td>\n",
              "    </tr>\n",
              "    <tr>\n",
              "      <th>1</th>\n",
              "      <td>318440</td>\n",
              "      <td>29</td>\n",
              "      <td>a</td>\n",
              "      <td>4</td>\n",
              "      <td>X</td>\n",
              "      <td>2</td>\n",
              "      <td>gynecology</td>\n",
              "      <td>S</td>\n",
              "      <td>F</td>\n",
              "      <td>2.0</td>\n",
              "      <td>17006</td>\n",
              "      <td>2.0</td>\n",
              "      <td>Trauma</td>\n",
              "      <td>Moderate</td>\n",
              "      <td>4</td>\n",
              "      <td>71-80</td>\n",
              "      <td>4018.0</td>\n",
              "    </tr>\n",
              "    <tr>\n",
              "      <th>2</th>\n",
              "      <td>318441</td>\n",
              "      <td>26</td>\n",
              "      <td>b</td>\n",
              "      <td>2</td>\n",
              "      <td>Y</td>\n",
              "      <td>3</td>\n",
              "      <td>gynecology</td>\n",
              "      <td>Q</td>\n",
              "      <td>D</td>\n",
              "      <td>4.0</td>\n",
              "      <td>17006</td>\n",
              "      <td>2.0</td>\n",
              "      <td>Emergency</td>\n",
              "      <td>Moderate</td>\n",
              "      <td>3</td>\n",
              "      <td>71-80</td>\n",
              "      <td>4492.0</td>\n",
              "    </tr>\n",
              "    <tr>\n",
              "      <th>3</th>\n",
              "      <td>318442</td>\n",
              "      <td>6</td>\n",
              "      <td>a</td>\n",
              "      <td>6</td>\n",
              "      <td>X</td>\n",
              "      <td>3</td>\n",
              "      <td>gynecology</td>\n",
              "      <td>Q</td>\n",
              "      <td>F</td>\n",
              "      <td>2.0</td>\n",
              "      <td>17006</td>\n",
              "      <td>2.0</td>\n",
              "      <td>Trauma</td>\n",
              "      <td>Moderate</td>\n",
              "      <td>3</td>\n",
              "      <td>71-80</td>\n",
              "      <td>4173.0</td>\n",
              "    </tr>\n",
              "    <tr>\n",
              "      <th>4</th>\n",
              "      <td>318443</td>\n",
              "      <td>28</td>\n",
              "      <td>b</td>\n",
              "      <td>11</td>\n",
              "      <td>X</td>\n",
              "      <td>2</td>\n",
              "      <td>gynecology</td>\n",
              "      <td>R</td>\n",
              "      <td>F</td>\n",
              "      <td>2.0</td>\n",
              "      <td>17006</td>\n",
              "      <td>2.0</td>\n",
              "      <td>Trauma</td>\n",
              "      <td>Moderate</td>\n",
              "      <td>4</td>\n",
              "      <td>71-80</td>\n",
              "      <td>4161.0</td>\n",
              "    </tr>\n",
              "    <tr>\n",
              "      <th>...</th>\n",
              "      <td>...</td>\n",
              "      <td>...</td>\n",
              "      <td>...</td>\n",
              "      <td>...</td>\n",
              "      <td>...</td>\n",
              "      <td>...</td>\n",
              "      <td>...</td>\n",
              "      <td>...</td>\n",
              "      <td>...</td>\n",
              "      <td>...</td>\n",
              "      <td>...</td>\n",
              "      <td>...</td>\n",
              "      <td>...</td>\n",
              "      <td>...</td>\n",
              "      <td>...</td>\n",
              "      <td>...</td>\n",
              "      <td>...</td>\n",
              "    </tr>\n",
              "    <tr>\n",
              "      <th>137052</th>\n",
              "      <td>455491</td>\n",
              "      <td>11</td>\n",
              "      <td>b</td>\n",
              "      <td>2</td>\n",
              "      <td>Y</td>\n",
              "      <td>4</td>\n",
              "      <td>anesthesia</td>\n",
              "      <td>Q</td>\n",
              "      <td>D</td>\n",
              "      <td>3.0</td>\n",
              "      <td>41160</td>\n",
              "      <td>3.0</td>\n",
              "      <td>Emergency</td>\n",
              "      <td>Minor</td>\n",
              "      <td>4</td>\n",
              "      <td>41-50</td>\n",
              "      <td>6313.0</td>\n",
              "    </tr>\n",
              "    <tr>\n",
              "      <th>137053</th>\n",
              "      <td>455492</td>\n",
              "      <td>25</td>\n",
              "      <td>e</td>\n",
              "      <td>1</td>\n",
              "      <td>X</td>\n",
              "      <td>2</td>\n",
              "      <td>radiotherapy</td>\n",
              "      <td>R</td>\n",
              "      <td>E</td>\n",
              "      <td>4.0</td>\n",
              "      <td>30985</td>\n",
              "      <td>7.0</td>\n",
              "      <td>Emergency</td>\n",
              "      <td>Moderate</td>\n",
              "      <td>2</td>\n",
              "      <td>0-10</td>\n",
              "      <td>3510.0</td>\n",
              "    </tr>\n",
              "    <tr>\n",
              "      <th>137054</th>\n",
              "      <td>455493</td>\n",
              "      <td>30</td>\n",
              "      <td>c</td>\n",
              "      <td>3</td>\n",
              "      <td>Z</td>\n",
              "      <td>2</td>\n",
              "      <td>anesthesia</td>\n",
              "      <td>R</td>\n",
              "      <td>A</td>\n",
              "      <td>4.0</td>\n",
              "      <td>81811</td>\n",
              "      <td>12.0</td>\n",
              "      <td>Urgent</td>\n",
              "      <td>Minor</td>\n",
              "      <td>2</td>\n",
              "      <td>0-10</td>\n",
              "      <td>7190.0</td>\n",
              "    </tr>\n",
              "    <tr>\n",
              "      <th>137055</th>\n",
              "      <td>455494</td>\n",
              "      <td>5</td>\n",
              "      <td>a</td>\n",
              "      <td>1</td>\n",
              "      <td>X</td>\n",
              "      <td>2</td>\n",
              "      <td>anesthesia</td>\n",
              "      <td>R</td>\n",
              "      <td>E</td>\n",
              "      <td>4.0</td>\n",
              "      <td>57021</td>\n",
              "      <td>10.0</td>\n",
              "      <td>Trauma</td>\n",
              "      <td>Minor</td>\n",
              "      <td>2</td>\n",
              "      <td>41-50</td>\n",
              "      <td>5435.0</td>\n",
              "    </tr>\n",
              "    <tr>\n",
              "      <th>137056</th>\n",
              "      <td>455495</td>\n",
              "      <td>6</td>\n",
              "      <td>a</td>\n",
              "      <td>6</td>\n",
              "      <td>X</td>\n",
              "      <td>3</td>\n",
              "      <td>gynecology</td>\n",
              "      <td>Q</td>\n",
              "      <td>F</td>\n",
              "      <td>4.0</td>\n",
              "      <td>126729</td>\n",
              "      <td>3.0</td>\n",
              "      <td>Trauma</td>\n",
              "      <td>Extreme</td>\n",
              "      <td>5</td>\n",
              "      <td>51-60</td>\n",
              "      <td>4702.0</td>\n",
              "    </tr>\n",
              "  </tbody>\n",
              "</table>\n",
              "<p>137057 rows × 17 columns</p>\n",
              "</div>\n",
              "    <div class=\"colab-df-buttons\">\n",
              "\n",
              "  <div class=\"colab-df-container\">\n",
              "    <button class=\"colab-df-convert\" onclick=\"convertToInteractive('df-d3b760b9-ed84-48c1-8477-8e0c7c86b8dd')\"\n",
              "            title=\"Convert this dataframe to an interactive table.\"\n",
              "            style=\"display:none;\">\n",
              "\n",
              "  <svg xmlns=\"http://www.w3.org/2000/svg\" height=\"24px\" viewBox=\"0 -960 960 960\">\n",
              "    <path d=\"M120-120v-720h720v720H120Zm60-500h600v-160H180v160Zm220 220h160v-160H400v160Zm0 220h160v-160H400v160ZM180-400h160v-160H180v160Zm440 0h160v-160H620v160ZM180-180h160v-160H180v160Zm440 0h160v-160H620v160Z\"/>\n",
              "  </svg>\n",
              "    </button>\n",
              "\n",
              "  <style>\n",
              "    .colab-df-container {\n",
              "      display:flex;\n",
              "      gap: 12px;\n",
              "    }\n",
              "\n",
              "    .colab-df-convert {\n",
              "      background-color: #E8F0FE;\n",
              "      border: none;\n",
              "      border-radius: 50%;\n",
              "      cursor: pointer;\n",
              "      display: none;\n",
              "      fill: #1967D2;\n",
              "      height: 32px;\n",
              "      padding: 0 0 0 0;\n",
              "      width: 32px;\n",
              "    }\n",
              "\n",
              "    .colab-df-convert:hover {\n",
              "      background-color: #E2EBFA;\n",
              "      box-shadow: 0px 1px 2px rgba(60, 64, 67, 0.3), 0px 1px 3px 1px rgba(60, 64, 67, 0.15);\n",
              "      fill: #174EA6;\n",
              "    }\n",
              "\n",
              "    .colab-df-buttons div {\n",
              "      margin-bottom: 4px;\n",
              "    }\n",
              "\n",
              "    [theme=dark] .colab-df-convert {\n",
              "      background-color: #3B4455;\n",
              "      fill: #D2E3FC;\n",
              "    }\n",
              "\n",
              "    [theme=dark] .colab-df-convert:hover {\n",
              "      background-color: #434B5C;\n",
              "      box-shadow: 0px 1px 3px 1px rgba(0, 0, 0, 0.15);\n",
              "      filter: drop-shadow(0px 1px 2px rgba(0, 0, 0, 0.3));\n",
              "      fill: #FFFFFF;\n",
              "    }\n",
              "  </style>\n",
              "\n",
              "    <script>\n",
              "      const buttonEl =\n",
              "        document.querySelector('#df-d3b760b9-ed84-48c1-8477-8e0c7c86b8dd button.colab-df-convert');\n",
              "      buttonEl.style.display =\n",
              "        google.colab.kernel.accessAllowed ? 'block' : 'none';\n",
              "\n",
              "      async function convertToInteractive(key) {\n",
              "        const element = document.querySelector('#df-d3b760b9-ed84-48c1-8477-8e0c7c86b8dd');\n",
              "        const dataTable =\n",
              "          await google.colab.kernel.invokeFunction('convertToInteractive',\n",
              "                                                    [key], {});\n",
              "        if (!dataTable) return;\n",
              "\n",
              "        const docLinkHtml = 'Like what you see? Visit the ' +\n",
              "          '<a target=\"_blank\" href=https://colab.research.google.com/notebooks/data_table.ipynb>data table notebook</a>'\n",
              "          + ' to learn more about interactive tables.';\n",
              "        element.innerHTML = '';\n",
              "        dataTable['output_type'] = 'display_data';\n",
              "        await google.colab.output.renderOutput(dataTable, element);\n",
              "        const docLink = document.createElement('div');\n",
              "        docLink.innerHTML = docLinkHtml;\n",
              "        element.appendChild(docLink);\n",
              "      }\n",
              "    </script>\n",
              "  </div>\n",
              "\n",
              "\n",
              "<div id=\"df-64f894d9-2a18-4887-bd22-8fdc5625d9a0\">\n",
              "  <button class=\"colab-df-quickchart\" onclick=\"quickchart('df-64f894d9-2a18-4887-bd22-8fdc5625d9a0')\"\n",
              "            title=\"Suggest charts\"\n",
              "            style=\"display:none;\">\n",
              "\n",
              "<svg xmlns=\"http://www.w3.org/2000/svg\" height=\"24px\"viewBox=\"0 0 24 24\"\n",
              "     width=\"24px\">\n",
              "    <g>\n",
              "        <path d=\"M19 3H5c-1.1 0-2 .9-2 2v14c0 1.1.9 2 2 2h14c1.1 0 2-.9 2-2V5c0-1.1-.9-2-2-2zM9 17H7v-7h2v7zm4 0h-2V7h2v10zm4 0h-2v-4h2v4z\"/>\n",
              "    </g>\n",
              "</svg>\n",
              "  </button>\n",
              "\n",
              "<style>\n",
              "  .colab-df-quickchart {\n",
              "      --bg-color: #E8F0FE;\n",
              "      --fill-color: #1967D2;\n",
              "      --hover-bg-color: #E2EBFA;\n",
              "      --hover-fill-color: #174EA6;\n",
              "      --disabled-fill-color: #AAA;\n",
              "      --disabled-bg-color: #DDD;\n",
              "  }\n",
              "\n",
              "  [theme=dark] .colab-df-quickchart {\n",
              "      --bg-color: #3B4455;\n",
              "      --fill-color: #D2E3FC;\n",
              "      --hover-bg-color: #434B5C;\n",
              "      --hover-fill-color: #FFFFFF;\n",
              "      --disabled-bg-color: #3B4455;\n",
              "      --disabled-fill-color: #666;\n",
              "  }\n",
              "\n",
              "  .colab-df-quickchart {\n",
              "    background-color: var(--bg-color);\n",
              "    border: none;\n",
              "    border-radius: 50%;\n",
              "    cursor: pointer;\n",
              "    display: none;\n",
              "    fill: var(--fill-color);\n",
              "    height: 32px;\n",
              "    padding: 0;\n",
              "    width: 32px;\n",
              "  }\n",
              "\n",
              "  .colab-df-quickchart:hover {\n",
              "    background-color: var(--hover-bg-color);\n",
              "    box-shadow: 0 1px 2px rgba(60, 64, 67, 0.3), 0 1px 3px 1px rgba(60, 64, 67, 0.15);\n",
              "    fill: var(--button-hover-fill-color);\n",
              "  }\n",
              "\n",
              "  .colab-df-quickchart-complete:disabled,\n",
              "  .colab-df-quickchart-complete:disabled:hover {\n",
              "    background-color: var(--disabled-bg-color);\n",
              "    fill: var(--disabled-fill-color);\n",
              "    box-shadow: none;\n",
              "  }\n",
              "\n",
              "  .colab-df-spinner {\n",
              "    border: 2px solid var(--fill-color);\n",
              "    border-color: transparent;\n",
              "    border-bottom-color: var(--fill-color);\n",
              "    animation:\n",
              "      spin 1s steps(1) infinite;\n",
              "  }\n",
              "\n",
              "  @keyframes spin {\n",
              "    0% {\n",
              "      border-color: transparent;\n",
              "      border-bottom-color: var(--fill-color);\n",
              "      border-left-color: var(--fill-color);\n",
              "    }\n",
              "    20% {\n",
              "      border-color: transparent;\n",
              "      border-left-color: var(--fill-color);\n",
              "      border-top-color: var(--fill-color);\n",
              "    }\n",
              "    30% {\n",
              "      border-color: transparent;\n",
              "      border-left-color: var(--fill-color);\n",
              "      border-top-color: var(--fill-color);\n",
              "      border-right-color: var(--fill-color);\n",
              "    }\n",
              "    40% {\n",
              "      border-color: transparent;\n",
              "      border-right-color: var(--fill-color);\n",
              "      border-top-color: var(--fill-color);\n",
              "    }\n",
              "    60% {\n",
              "      border-color: transparent;\n",
              "      border-right-color: var(--fill-color);\n",
              "    }\n",
              "    80% {\n",
              "      border-color: transparent;\n",
              "      border-right-color: var(--fill-color);\n",
              "      border-bottom-color: var(--fill-color);\n",
              "    }\n",
              "    90% {\n",
              "      border-color: transparent;\n",
              "      border-bottom-color: var(--fill-color);\n",
              "    }\n",
              "  }\n",
              "</style>\n",
              "\n",
              "  <script>\n",
              "    async function quickchart(key) {\n",
              "      const quickchartButtonEl =\n",
              "        document.querySelector('#' + key + ' button');\n",
              "      quickchartButtonEl.disabled = true;  // To prevent multiple clicks.\n",
              "      quickchartButtonEl.classList.add('colab-df-spinner');\n",
              "      try {\n",
              "        const charts = await google.colab.kernel.invokeFunction(\n",
              "            'suggestCharts', [key], {});\n",
              "      } catch (error) {\n",
              "        console.error('Error during call to suggestCharts:', error);\n",
              "      }\n",
              "      quickchartButtonEl.classList.remove('colab-df-spinner');\n",
              "      quickchartButtonEl.classList.add('colab-df-quickchart-complete');\n",
              "    }\n",
              "    (() => {\n",
              "      let quickchartButtonEl =\n",
              "        document.querySelector('#df-64f894d9-2a18-4887-bd22-8fdc5625d9a0 button');\n",
              "      quickchartButtonEl.style.display =\n",
              "        google.colab.kernel.accessAllowed ? 'block' : 'none';\n",
              "    })();\n",
              "  </script>\n",
              "</div>\n",
              "\n",
              "  <div id=\"id_35d84b81-3c1e-4ac9-878f-f727810878bb\">\n",
              "    <style>\n",
              "      .colab-df-generate {\n",
              "        background-color: #E8F0FE;\n",
              "        border: none;\n",
              "        border-radius: 50%;\n",
              "        cursor: pointer;\n",
              "        display: none;\n",
              "        fill: #1967D2;\n",
              "        height: 32px;\n",
              "        padding: 0 0 0 0;\n",
              "        width: 32px;\n",
              "      }\n",
              "\n",
              "      .colab-df-generate:hover {\n",
              "        background-color: #E2EBFA;\n",
              "        box-shadow: 0px 1px 2px rgba(60, 64, 67, 0.3), 0px 1px 3px 1px rgba(60, 64, 67, 0.15);\n",
              "        fill: #174EA6;\n",
              "      }\n",
              "\n",
              "      [theme=dark] .colab-df-generate {\n",
              "        background-color: #3B4455;\n",
              "        fill: #D2E3FC;\n",
              "      }\n",
              "\n",
              "      [theme=dark] .colab-df-generate:hover {\n",
              "        background-color: #434B5C;\n",
              "        box-shadow: 0px 1px 3px 1px rgba(0, 0, 0, 0.15);\n",
              "        filter: drop-shadow(0px 1px 2px rgba(0, 0, 0, 0.3));\n",
              "        fill: #FFFFFF;\n",
              "      }\n",
              "    </style>\n",
              "    <button class=\"colab-df-generate\" onclick=\"generateWithVariable('df')\"\n",
              "            title=\"Generate code using this dataframe.\"\n",
              "            style=\"display:none;\">\n",
              "\n",
              "  <svg xmlns=\"http://www.w3.org/2000/svg\" height=\"24px\"viewBox=\"0 0 24 24\"\n",
              "       width=\"24px\">\n",
              "    <path d=\"M7,19H8.4L18.45,9,17,7.55,7,17.6ZM5,21V16.75L18.45,3.32a2,2,0,0,1,2.83,0l1.4,1.43a1.91,1.91,0,0,1,.58,1.4,1.91,1.91,0,0,1-.58,1.4L9.25,21ZM18.45,9,17,7.55Zm-12,3A5.31,5.31,0,0,0,4.9,8.1,5.31,5.31,0,0,0,1,6.5,5.31,5.31,0,0,0,4.9,4.9,5.31,5.31,0,0,0,6.5,1,5.31,5.31,0,0,0,8.1,4.9,5.31,5.31,0,0,0,12,6.5,5.46,5.46,0,0,0,6.5,12Z\"/>\n",
              "  </svg>\n",
              "    </button>\n",
              "    <script>\n",
              "      (() => {\n",
              "      const buttonEl =\n",
              "        document.querySelector('#id_35d84b81-3c1e-4ac9-878f-f727810878bb button.colab-df-generate');\n",
              "      buttonEl.style.display =\n",
              "        google.colab.kernel.accessAllowed ? 'block' : 'none';\n",
              "\n",
              "      buttonEl.onclick = () => {\n",
              "        google.colab.notebook.generateWithVariable('df');\n",
              "      }\n",
              "      })();\n",
              "    </script>\n",
              "  </div>\n",
              "\n",
              "    </div>\n",
              "  </div>\n"
            ],
            "application/vnd.google.colaboratory.intrinsic+json": {
              "type": "dataframe",
              "variable_name": "df"
            }
          },
          "metadata": {},
          "execution_count": 7
        }
      ]
    },
    {
      "cell_type": "markdown",
      "source": [
        "# 1.\tWrite a Python script to display the number of rows and columns in the dataset."
      ],
      "metadata": {
        "id": "yIsEXI21_OcR"
      }
    },
    {
      "source": [
        "# Get the number of rows and columns\n",
        "num_rows = df.shape[0]\n",
        "num_cols = df.shape[1]\n",
        "\n",
        "# Print the results\n",
        "print(\"Number of rows:\", num_rows)\n",
        "print(\"Number of columns:\", num_cols)"
      ],
      "cell_type": "code",
      "metadata": {
        "colab": {
          "base_uri": "https://localhost:8080/"
        },
        "id": "K8dqXaCV_VFn",
        "outputId": "2be03254-eb4b-4771-c39c-444cdae748a5"
      },
      "execution_count": null,
      "outputs": [
        {
          "output_type": "stream",
          "name": "stdout",
          "text": [
            "Number of rows: 137057\n",
            "Number of columns: 17\n"
          ]
        }
      ]
    },
    {
      "cell_type": "markdown",
      "source": [
        "## Documentation:\n",
        "The code cell displays the number of rows and columns in the dataset.This indicates the dataset has 137057 rows and 17 columns."
      ],
      "metadata": {
        "id": "FVzfXE6z_pM_"
      }
    },
    {
      "cell_type": "markdown",
      "source": [
        "# 2.\tHow many unique hospital codes are in the dataset?"
      ],
      "metadata": {
        "id": "aTEnMqLFAnB5"
      }
    },
    {
      "source": [
        "# Assuming 'Hospital_Code' is the column containing hospital codes\n",
        "num_unique_hospitals = df['Hospital_code'].nunique()\n",
        "\n",
        "# Print the result\n",
        "print(\"Number of unique hospital codes:\", num_unique_hospitals)"
      ],
      "cell_type": "code",
      "metadata": {
        "colab": {
          "base_uri": "https://localhost:8080/"
        },
        "id": "anWOg2kxBgoj",
        "outputId": "48c13c75-ce2f-48cc-e8bb-842fd5cb9b9a"
      },
      "execution_count": null,
      "outputs": [
        {
          "output_type": "stream",
          "name": "stdout",
          "text": [
            "Number of unique hospital codes: 32\n"
          ]
        }
      ]
    },
    {
      "cell_type": "markdown",
      "source": [
        "## Documentation:\n",
        "This output indicates there are 32 different hospital codes represented within the dataset. This means that the data includes patient records from 32 distinct hospitals."
      ],
      "metadata": {
        "id": "jQ_l5J3oCJ8J"
      }
    },
    {
      "cell_type": "markdown",
      "source": [
        "# 3. Find the number of missing values in each column."
      ],
      "metadata": {
        "id": "7AoewUu-CWgj"
      }
    },
    {
      "source": [
        "# Calculate the number of missing values in each column\n",
        "missing_values = df.isnull().sum()\n",
        "\n",
        "# Print the results\n",
        "print(\"Number of missing values in each column:\")\n",
        "print(missing_values)"
      ],
      "cell_type": "code",
      "metadata": {
        "colab": {
          "base_uri": "https://localhost:8080/"
        },
        "id": "dKN2RWVyCuyc",
        "outputId": "ebf0a1c9-3e3f-45a9-b97d-571f884b6050"
      },
      "execution_count": null,
      "outputs": [
        {
          "output_type": "stream",
          "name": "stdout",
          "text": [
            "Number of missing values in each column:\n",
            "case_id                                 0\n",
            "Hospital_code                           0\n",
            "Hospital_type_code                      0\n",
            "City_Code_Hospital                      0\n",
            "Hospital_region_code                    0\n",
            "Available Extra Rooms in Hospital       0\n",
            "Department                              0\n",
            "Ward_Type                               0\n",
            "Ward_Facility_Code                      0\n",
            "Bed Grade                              35\n",
            "patientid                               0\n",
            "City_Code_Patient                    2157\n",
            "Type of Admission                       0\n",
            "Severity of Illness                     0\n",
            "Visitors with Patient                   0\n",
            "Age                                     0\n",
            "Admission_Deposit                       0\n",
            "dtype: int64\n"
          ]
        }
      ]
    },
    {
      "cell_type": "markdown",
      "source": [
        "## Documentation:\n",
        "This output helps to understand the completeness of the data and identify which columns require further attention for handling missing values.\n",
        "\n"
      ],
      "metadata": {
        "id": "izHQhswuCzjc"
      }
    },
    {
      "cell_type": "markdown",
      "source": [
        "# 4. What is the average number of available extra rooms in hospitals?"
      ],
      "metadata": {
        "id": "6M1cNPb1DK2W"
      }
    },
    {
      "source": [
        "# Calculate the average number of available extra rooms\n",
        "average_extra_rooms = df['Available Extra Rooms in Hospital'].mean()\n",
        "\n",
        "# Print the result\n",
        "print(\"Average number of available extra rooms in hospitals:\", average_extra_rooms)"
      ],
      "cell_type": "code",
      "metadata": {
        "colab": {
          "base_uri": "https://localhost:8080/"
        },
        "id": "1QsYc8U3DySJ",
        "outputId": "0f198285-6044-4c87-8bb4-4cc370ba889d"
      },
      "execution_count": null,
      "outputs": [
        {
          "output_type": "stream",
          "name": "stdout",
          "text": [
            "Average number of available extra rooms in hospitals: 3.1926862546239887\n"
          ]
        }
      ]
    },
    {
      "cell_type": "markdown",
      "source": [
        "## Documentation:\n",
        "The output shows the average number 3.1926862546239887 of extra rooms available across all hospitals in the dataset. This value gives insights into the overall capacity and resource availability of the hospitals in the dataset."
      ],
      "metadata": {
        "id": "fop3JKZZETNV"
      }
    },
    {
      "cell_type": "markdown",
      "source": [
        "# 5. Find the hospital with the highest admission deposit."
      ],
      "metadata": {
        "id": "qdZz7XZ5E1xE"
      }
    },
    {
      "source": [
        "# Find the hospital with the highest admission deposit\n",
        "highest_deposit_hospital = df.loc[df['Admission_Deposit'].idxmax(), 'Hospital_code']\n",
        "\n",
        "# Print the result\n",
        "print(\"Hospital with the highest admission deposit:\", highest_deposit_hospital)"
      ],
      "cell_type": "code",
      "metadata": {
        "colab": {
          "base_uri": "https://localhost:8080/"
        },
        "id": "H_CsQ40lFS5M",
        "outputId": "ba912e18-7f5a-4b4c-c429-69585e16b28a"
      },
      "execution_count": null,
      "outputs": [
        {
          "output_type": "stream",
          "name": "stdout",
          "text": [
            "Hospital with the highest admission deposit: 19\n"
          ]
        }
      ]
    },
    {
      "cell_type": "markdown",
      "source": [
        "## Documentation:\n",
        "The output shows the hospital code that had the highest admission deposit recorded in the dataset. This identifies the hospital with potentially the most expensive admission process or requirements."
      ],
      "metadata": {
        "id": "wlghOoWOFx5U"
      }
    },
    {
      "cell_type": "markdown",
      "source": [
        "# 6. Determine the most common type of admission."
      ],
      "metadata": {
        "id": "tWk3Nv9lGFka"
      }
    },
    {
      "source": [
        "# Assuming 'Type of Admission' is the column containing admission types\n",
        "most_common_admission = df['Type of Admission'].mode()[0]\n",
        "\n",
        "# Print the result\n",
        "print(\"Most common type of admission:\", most_common_admission)"
      ],
      "cell_type": "code",
      "metadata": {
        "colab": {
          "base_uri": "https://localhost:8080/"
        },
        "id": "A58_rarwG-YQ",
        "outputId": "be479c74-cf15-48b3-a3f8-87c92a84f7d4"
      },
      "execution_count": null,
      "outputs": [
        {
          "output_type": "stream",
          "name": "stdout",
          "text": [
            "Most common type of admission: Trauma\n"
          ]
        }
      ]
    },
    {
      "cell_type": "markdown",
      "source": [
        "## Documentation:\n",
        "The output shows the most frequent or common category within Trauma. It indicates that \"Trauma\" admissions are the most prevalent in the dataset."
      ],
      "metadata": {
        "id": "uPne1t7qHpwz"
      }
    },
    {
      "cell_type": "markdown",
      "source": [
        "# 7. Find the number of cases for each severity of illness."
      ],
      "metadata": {
        "id": "bXgGJxgdIVyA"
      }
    },
    {
      "source": [
        "# Assuming 'Severity of Illness' is the column containing severity levels\n",
        "severity_counts = df['Severity of Illness'].value_counts()\n",
        "\n",
        "# Print the results\n",
        "print(\"Number of cases for each severity of illness:\")\n",
        "print(severity_counts)"
      ],
      "cell_type": "code",
      "metadata": {
        "colab": {
          "base_uri": "https://localhost:8080/"
        },
        "id": "HW44c1nLTO0O",
        "outputId": "61f5a032-e5aa-410d-96e0-5f28537ea231"
      },
      "execution_count": null,
      "outputs": [
        {
          "output_type": "stream",
          "name": "stdout",
          "text": [
            "Number of cases for each severity of illness:\n",
            "Severity of Illness\n",
            "Moderate    75722\n",
            "Minor       36863\n",
            "Extreme     24472\n",
            "Name: count, dtype: int64\n"
          ]
        }
      ]
    },
    {
      "cell_type": "markdown",
      "source": [
        "## Documentation:\n",
        "This output provides a breakdown of the distribution of illness severity within the dataset, which enable to understand the prevalence of different severity levels and their relative proportions."
      ],
      "metadata": {
        "id": "-Lsnl4mPMbat"
      }
    },
    {
      "cell_type": "markdown",
      "source": [
        "# 8. List the top 3 hospital types with the highest number of cases."
      ],
      "metadata": {
        "id": "AOz_1xOOT_Lp"
      }
    },
    {
      "source": [
        "# Assuming 'Hospital_type_code' is the column containing hospital types\n",
        "top_hospital_types = df['Hospital_type_code'].value_counts().head(3)\n",
        "\n",
        "# Print the results\n",
        "print(\"Top 3 hospital types with the highest number of cases:\")\n",
        "print(top_hospital_types)"
      ],
      "cell_type": "code",
      "metadata": {
        "colab": {
          "base_uri": "https://localhost:8080/"
        },
        "id": "l2jExruCVAJ8",
        "outputId": "c6c0d8d1-a202-4d38-c08f-7157781b62e3"
      },
      "execution_count": null,
      "outputs": [
        {
          "output_type": "stream",
          "name": "stdout",
          "text": [
            "Top 3 hospital types with the highest number of cases:\n",
            "Hospital_type_code\n",
            "a    61305\n",
            "b    29938\n",
            "c    20219\n",
            "Name: count, dtype: int64\n"
          ]
        }
      ]
    },
    {
      "cell_type": "markdown",
      "source": [
        "## Documentation:\n",
        "\n",
        "The code cell displays the top 3 hospital types with the highest number of cases or patient records associated with them."
      ],
      "metadata": {
        "id": "hOKBB3lGVLXT"
      }
    },
    {
      "cell_type": "markdown",
      "source": [
        "# 9. Determine the total admission deposit collected for each hospital region."
      ],
      "metadata": {
        "id": "ryZIVKEsVXwL"
      }
    },
    {
      "source": [
        "# Assuming 'Hospital_region_code' and 'Admission_Deposit' are the relevant columns\n",
        "region_deposit_total = df.groupby('Hospital_region_code')['Admission_Deposit'].sum()\n",
        "\n",
        "# Print the results\n",
        "print(\"Total admission deposit collected for each hospital region:\")\n",
        "print(region_deposit_total)"
      ],
      "cell_type": "code",
      "metadata": {
        "colab": {
          "base_uri": "https://localhost:8080/"
        },
        "id": "aUgDPyL8WGUW",
        "outputId": "3416d090-f81a-4d93-fd5a-b16d09ab5ca0"
      },
      "execution_count": null,
      "outputs": [
        {
          "output_type": "stream",
          "name": "stdout",
          "text": [
            "Total admission deposit collected for each hospital region:\n",
            "Hospital_region_code\n",
            "X    276248153.0\n",
            "Y    253466037.0\n",
            "Z    137716545.0\n",
            "Name: Admission_Deposit, dtype: float64\n"
          ]
        }
      ]
    },
    {
      "cell_type": "markdown",
      "source": [
        "## Documentation:\n",
        "\n",
        "The code cell displays the total admission deposit collected for each distinct hospital region."
      ],
      "metadata": {
        "id": "tAb0wgqiWMw-"
      }
    },
    {
      "cell_type": "markdown",
      "source": [
        "# 10.Replace missing values in the Bed Grade column with the most common grade."
      ],
      "metadata": {
        "id": "ZIaae5gnWUiN"
      }
    },
    {
      "source": [
        "# Replace missing values in 'Bed Grade' with the most common grade\n",
        "most_common_grade = df['Bed Grade'].mode()[0]  # Find the most common grade\n",
        "df['Bed Grade'].fillna(most_common_grade, inplace=True)  # Fill missing values\n",
        "\n",
        "# Optional: Print a message indicating the change\n",
        "print(\"Missing values in 'Bed Grade' have been replaced with the most common grade.\")"
      ],
      "cell_type": "code",
      "metadata": {
        "colab": {
          "base_uri": "https://localhost:8080/"
        },
        "id": "6W-ppDEOXZDi",
        "outputId": "c7b5d8d4-6a8e-4531-dafa-9b39e848c474"
      },
      "execution_count": null,
      "outputs": [
        {
          "output_type": "stream",
          "name": "stdout",
          "text": [
            "Missing values in 'Bed Grade' have been replaced with the most common grade.\n"
          ]
        },
        {
          "output_type": "stream",
          "name": "stderr",
          "text": [
            "<ipython-input-18-d88c124184bc>:3: FutureWarning: A value is trying to be set on a copy of a DataFrame or Series through chained assignment using an inplace method.\n",
            "The behavior will change in pandas 3.0. This inplace method will never work because the intermediate object on which we are setting values always behaves as a copy.\n",
            "\n",
            "For example, when doing 'df[col].method(value, inplace=True)', try using 'df.method({col: value}, inplace=True)' or df[col] = df[col].method(value) instead, to perform the operation inplace on the original object.\n",
            "\n",
            "\n",
            "  df['Bed Grade'].fillna(most_common_grade, inplace=True)  # Fill missing values\n"
          ]
        }
      ]
    },
    {
      "cell_type": "markdown",
      "source": [
        "## Documentation:\n",
        "\n",
        "This code cell doesn't produce a direct output that is printed or displayed. However, it modifies the underlying DataFrame (df) by replacing missing values in the 'Bed Grade' column."
      ],
      "metadata": {
        "id": "jI1MTufXXo_1"
      }
    },
    {
      "cell_type": "markdown",
      "source": [
        "# 11. Fill missing values in the City_Code_Patient column with the median city code."
      ],
      "metadata": {
        "id": "uomAnvDoYIRg"
      }
    },
    {
      "source": [
        "# Fill missing values in 'City_Code_Patient' with the median city code\n",
        "median_city_code = df['City_Code_Patient'].median()  # Calculate the median\n",
        "df['City_Code_Patient'].fillna(median_city_code, inplace=True)  # Fill missing values\n",
        "\n",
        "# Optional: Print a message indicating the change\n",
        "print(\"Missing values in 'City_Code_Patient' have been replaced with the median city code.\")"
      ],
      "cell_type": "code",
      "metadata": {
        "colab": {
          "base_uri": "https://localhost:8080/"
        },
        "id": "tvjBDVAiZ4u0",
        "outputId": "ec8ec098-29d4-477d-8101-04f9a8eed1b2"
      },
      "execution_count": null,
      "outputs": [
        {
          "output_type": "stream",
          "name": "stdout",
          "text": [
            "Missing values in 'City_Code_Patient' have been replaced with the median city code.\n"
          ]
        },
        {
          "output_type": "stream",
          "name": "stderr",
          "text": [
            "<ipython-input-19-a0472261ee6d>:3: FutureWarning: A value is trying to be set on a copy of a DataFrame or Series through chained assignment using an inplace method.\n",
            "The behavior will change in pandas 3.0. This inplace method will never work because the intermediate object on which we are setting values always behaves as a copy.\n",
            "\n",
            "For example, when doing 'df[col].method(value, inplace=True)', try using 'df.method({col: value}, inplace=True)' or df[col] = df[col].method(value) instead, to perform the operation inplace on the original object.\n",
            "\n",
            "\n",
            "  df['City_Code_Patient'].fillna(median_city_code, inplace=True)  # Fill missing values\n"
          ]
        }
      ]
    },
    {
      "cell_type": "markdown",
      "source": [
        "Documentation:\n",
        "\n",
        "This code cell doesn't produce a direct output that is printed or displayed. Instead, it modifies the underlying DataFrame (df) by replacing missing values in the 'City_Code_Patient' column."
      ],
      "metadata": {
        "id": "zt3fRWkDaP4d"
      }
    },
    {
      "cell_type": "markdown",
      "source": [
        "# 12.\tPlot a bar chart showing the count of different types of admission."
      ],
      "metadata": {
        "id": "KYmLTznaahUi"
      }
    },
    {
      "source": [
        "import matplotlib.pyplot as plt\n",
        "import seaborn as sns\n",
        "\n",
        "# Assuming 'Type of Admission' is the column containing admission types\n",
        "admission_counts = df['Type of Admission'].value_counts()\n",
        "\n",
        "# Create the bar chart using Seaborn\n",
        "plt.figure(figsize=(8, 6))  # Adjust figure size if needed\n",
        "sns.countplot(x='Type of Admission', data=df)\n",
        "plt.title('Count of Different Types of Admission')\n",
        "plt.xlabel('Type of Admission')\n",
        "plt.ylabel('Count')\n",
        "plt.xticks(rotation=45)  # Rotate x-axis labels if they are long\n",
        "plt.show()"
      ],
      "cell_type": "code",
      "metadata": {
        "colab": {
          "base_uri": "https://localhost:8080/",
          "height": 543
        },
        "id": "AE3WLgrhbMea",
        "outputId": "e34533dd-012e-4106-a053-973b9a413e8e"
      },
      "execution_count": null,
      "outputs": [
        {
          "output_type": "display_data",
          "data": {
            "text/plain": [
              "<Figure size 800x600 with 1 Axes>"
            ],
            "image/png": "[encoded data removed]"
          },
          "metadata": {}
        }
      ]
    },
    {
      "cell_type": "markdown",
      "source": [
        "#Documentation:\n",
        "\n",
        "The code cell generates a bar chart visualizing the distribution of different types of admission in the dataset."
      ],
      "metadata": {
        "id": "EvCY1NEwbUv7"
      }
    },
    {
      "cell_type": "markdown",
      "source": [
        "# 13.\tCreate a histogram of the Admission_Deposit values."
      ],
      "metadata": {
        "id": "bD2KB311bh-S"
      }
    },
    {
      "source": [
        "import matplotlib.pyplot as plt\n",
        "import seaborn as sns\n",
        "\n",
        "# Create the histogram using Seaborn\n",
        "plt.figure(figsize=(8, 6))  # Adjust figure size if needed\n",
        "sns.histplot(df['Admission_Deposit'], kde=False)  # kde=False to remove the density curve\n",
        "plt.title('Distribution of Admission Deposit')\n",
        "plt.xlabel('Admission Deposit')\n",
        "plt.ylabel('Frequency')\n",
        "plt.show()"
      ],
      "cell_type": "code",
      "metadata": {
        "colab": {
          "base_uri": "https://localhost:8080/",
          "height": 505
        },
        "id": "cZ0FtpPncMV4",
        "outputId": "29ce39ba-d26c-4fc5-f454-724fbf7f1cd0"
      },
      "execution_count": null,
      "outputs": [
        {
          "output_type": "display_data",
          "data": {
            "text/plain": [
              "<Figure size 800x600 with 1 Axes>"
            ],
            "image/png": "[encoded data removed]"
          },
          "metadata": {}
        }
      ]
    },
    {
      "cell_type": "markdown",
      "source": [
        "## Documentation:\n",
        "\n",
        "The code cell generates a histogram visualizing the distribution of \"Admission_Deposit\" values in the dataset."
      ],
      "metadata": {
        "id": "6Bx88BLicWzQ"
      }
    },
    {
      "cell_type": "markdown",
      "source": [
        "# 14.\tPlot a boxplot to analyze the distribution of Visitors with Patient for different severity levels."
      ],
      "metadata": {
        "id": "GM-VkN7lcpf5"
      }
    },
    {
      "source": [
        "import matplotlib.pyplot as plt\n",
        "import seaborn as sns\n",
        "\n",
        "# Create the boxplot using Seaborn\n",
        "plt.figure(figsize=(8, 6))  # Adjust figure size if needed\n",
        "sns.boxplot(x='Severity of Illness', y='Visitors with Patient', data=df)\n",
        "plt.title('Distribution of Visitors with Patient by Severity of Illness')\n",
        "plt.xlabel('Severity of Illness')\n",
        "plt.ylabel('Visitors with Patient')\n",
        "plt.show()"
      ],
      "cell_type": "code",
      "metadata": {
        "colab": {
          "base_uri": "https://localhost:8080/",
          "height": 518
        },
        "id": "Y0FMzY5ic9Ve",
        "outputId": "32f8b28d-542e-4d3a-973e-9f1724988657"
      },
      "execution_count": null,
      "outputs": [
        {
          "output_type": "display_data",
          "data": {
            "text/plain": [
              "<Figure size 800x600 with 1 Axes>"
            ],
            "image/png": "[encoded data removed]"
          },
          "metadata": {}
        }
      ]
    },
    {
      "cell_type": "markdown",
      "source": [
        "## Documentation:\n",
        "\n",
        "The code cell generates a boxplot visualizing the distribution of \"Visitors with Patient\" for different severity levels in the dataset."
      ],
      "metadata": {
        "id": "MfjeE3YddSvN"
      }
    }
  ]
}